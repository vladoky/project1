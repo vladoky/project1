{
 "cells": [
  {
   "cell_type": "markdown",
   "metadata": {},
   "source": [
    "[Normalized data](#1)\n",
    "\n",
    "[Missings stat](#2)\n",
    "\n",
    "[Feature Splitting](#3)\n",
    "\n",
    "[Imputation](#4)\n",
    "\n",
    "1. [What's the number of jobs posting per category (Top 10)](#6)\n",
    "\n",
    "2. [What's the salary distribution per job category? ](#7)\n",
    "\n",
    "3. [Is there any correlation between the higher degree and the salary?](#8)\n",
    "    \n",
    "    1. [Answer](#9)\n",
    "\n",
    "\n",
    "4. [What's the job posting having the highest salary per agency? ](#10)\n",
    "\n",
    "5. [What's the job postings average salary per agency for the last 2 years?](#11)\n",
    "\n",
    "6. [What are the highest paid skills in the US market?](#12)\n"
   ]
  },
  {
   "cell_type": "code",
   "execution_count": 1,
   "metadata": {},
   "outputs": [],
   "source": [
    "import sys; \n",
    "sys.path.insert(0, '..')\n",
    "import numpy as np\n",
    "import pyspark.sql.functions as F\n",
    "from pyspark.sql import DataFrame\n",
    "import utils.processing_fuctions \n",
    "from utils.processing_fuctions import normalize_column_names, column_types\n",
    "from pyspark.sql.types import *\n",
    "from pyspark.sql.functions import col, mean, lit, udf, concat, lower, desc, asc, round, row_number, isnan, when, count, col, cast, substring, expr\n",
    "import matplotlib.pyplot as plt\n",
    "from pyspark.sql.window import Window\n",
    "import findspark\n",
    "import seaborn as sns\n",
    "import pandas as pd"
   ]
  },
  {
   "cell_type": "code",
   "execution_count": 2,
   "metadata": {},
   "outputs": [],
   "source": [
    "findspark.init()"
   ]
  },
  {
   "cell_type": "code",
   "execution_count": 3,
   "metadata": {},
   "outputs": [
    {
     "name": "stdout",
     "output_type": "stream",
     "text": [
      "22/09/23 18:36:11 WARN Utils: Your hostname, Vladislavs-MacBook-Air.local resolves to a loopback address: 127.0.0.1; using 172.28.171.123 instead (on interface en0)\n",
      "22/09/23 18:36:11 WARN Utils: Set SPARK_LOCAL_IP if you need to bind to another address\n"
     ]
    },
    {
     "name": "stderr",
     "output_type": "stream",
     "text": [
      "Setting default log level to \"WARN\".\n",
      "To adjust logging level use sc.setLogLevel(newLevel). For SparkR, use setLogLevel(newLevel).\n"
     ]
    },
    {
     "name": "stdout",
     "output_type": "stream",
     "text": [
      "22/09/23 18:36:12 WARN NativeCodeLoader: Unable to load native-hadoop library for your platform... using builtin-java classes where applicable\n",
      "22/09/23 18:36:12 WARN Utils: Service 'SparkUI' could not bind on port 4040. Attempting port 4041.\n",
      "22/09/23 18:36:12 WARN Utils: Service 'SparkUI' could not bind on port 4041. Attempting port 4042.\n",
      "22/09/23 18:36:12 WARN Utils: Service 'SparkUI' could not bind on port 4042. Attempting port 4043.\n",
      "22/09/23 18:36:12 WARN Utils: Service 'SparkUI' could not bind on port 4043. Attempting port 4044.\n"
     ]
    }
   ],
   "source": [
    "from pyspark.sql import SparkSession\n",
    "import os\n",
    "spark = SparkSession.builder.appName(\"pyspark\").getOrCreate()"
   ]
  },
  {
   "cell_type": "markdown",
   "metadata": {},
   "source": [
    "### Read data"
   ]
  },
  {
   "cell_type": "code",
   "execution_count": 4,
   "metadata": {},
   "outputs": [],
   "source": [
    "df = spark.read.option('escape','\"').options(inferSchema='True').csv(\"../../dataset/nyc-jobs.csv\", header=True)"
   ]
  },
  {
   "cell_type": "markdown",
   "metadata": {},
   "source": [
    "# Normalized data <a id=\"1\"></a> <br>"
   ]
  },
  {
   "cell_type": "code",
   "execution_count": 5,
   "metadata": {},
   "outputs": [],
   "source": [
    "df = normalize_column_names(df).dropDuplicates()"
   ]
  },
  {
   "cell_type": "code",
   "execution_count": 6,
   "metadata": {},
   "outputs": [
    {
     "name": "stdout",
     "output_type": "stream",
     "text": [
      "22/09/23 18:36:15 WARN package: Truncated the string representation of a plan since it was too large. This behavior can be adjusted by setting 'spark.sql.debug.maxToStringFields'.\n"
     ]
    },
    {
     "data": {
      "text/plain": [
       "2915"
      ]
     },
     "execution_count": 6,
     "metadata": {},
     "output_type": "execute_result"
    }
   ],
   "source": [
    "df.count()"
   ]
  },
  {
   "cell_type": "code",
   "execution_count": 7,
   "metadata": {},
   "outputs": [
    {
     "data": {
      "text/plain": [
       "Row(job_id=87990, agency='DEPARTMENT OF BUSINESS SERV.', posting_type='Internal', #_of_positions=1, business_title='Account Manager', civil_service_title='CONTRACT REVIEWER (OFFICE OF L', title_code_no='40563', level='1', job_category=None, full-time/part-time_indicator=None, salary_range_from=42405.0, salary_range_to=65485.0, salary_frequency='Annual', work_location='110 William St. N Y', division/work_unit='Strategy & Analytics', job_description='Division of Economic & Financial Opportunity (DEFO)    Mayor Michael R. Bloomberg and SBS are committed to encouraging a competitive and diverse New York City business environment by promoting the growth and success of minority and women-owned companies.  New York Cityâ€™s Minority and Women-owned Business Enterprise (M/WBE) program is designed to help these historically underserved groups become more competitive.    JOB DESCRIPTION           The Account Manager will provide a range of supportive services to City agency purchasing personnel and private-sector prime contractors to help them comply with M/WBE utilization goals under Local Law 129.  The Account Manager will oversee a portfolio of several City agencies and will be responsible for the monitoring and oversight of the strategies which have been broadly laid out for agencies to increase M/WBE utilization.  The primary objective for the Account Manager is to help agencies increase the number and dollar value of contracts awarded to M/WBE at various contract levels.  Specifically, the Account Manager will seek to bring agencies into compliance with the Citywide utilization goals and other metrics used for measuring agency performance. Each account manager will be responsible for procurements of all sizes and methods for their respective agencies.  The Account Manager will report to the Director of Procurement Initiatives.    Account Manager Model  Each agency has very specific vendor requirements and needs, as well as obstacles to increasing M/WBE Utilization. The account managers will learn what is procured, by what method, how frequently, and how to get more M/WBEs participating in the process. The account manager will leverage their procurement contacts to work directly with program end users to identify needs and obstacles and create appropriate solutions.    The Account Managerâ€™s responsibilities will include the following:  1.\\tResearch agency procurement practices, requirements, in order to connect M/WBE firms with future procurement opportunities   2.\\tWork with the agency senior staff to implement strategies to increase M/WBE participation   3.\\tIntroduce new M/WBE firms to agency staff   4.\\tAssist agency staff with tools to improve performance, including monitoring prime contractor performance relating to M/WBE subcontractor utilization goals   5.\\tInform agency senior staff of their performance against goals on a regular basis   6.\\tAssist program and procurement staff with program implementation questions as they arise   7.\\tProduce  analysis of agency contracts and M/WBE program performance   8.\\tCoordinate resources for agencies as necessary, including networking events, training sessions, etc.', minimum_qual_requirements='1.\\tA baccalaureate degree from an accredited college and two years of experience in community work or community centered activities in an area related to the duties described above; or  2.\\tHigh school graduation or equivalent and six years of experience in community work or community centered activities in an area related to the duties as described above; or  3.\\tEducation and/or experience which is equivalent to \"1\" or \"2\" above. However, all candidates must have at least one year of experience as described in \"1\" above.', preferred_skills='â€¢\\tExcellent interpersonal and organizational skills.  â€¢\\tExcellent analytic and operational skills.  â€¢\\tExcellent writing and editing skills.  â€¢\\tKnowledge of government procurement processes and information systems desirable.  â€¢\\tForeign language skills a plus.', additional_information='Salary range for this position is: $42,405 - $45,000 per year', to_apply=None, hours/shift=None, work_location_1=None, recruitment_contact=None, residency_requirement='New York City residency is generally required within 90 days of appointment. However, City Employees in certain titles who have worked for the City for 2 continuous years may also be eligible to reside in Nassau, Suffolk, Putnam, Westchester, Rockland, or Orange County. To determine if the residency requirement applies to you, please discuss with the agency representative at the time of interview.', posting_date=datetime.datetime(2011, 6, 24, 0, 0), post_until=None, posting_updated=datetime.datetime(2011, 6, 24, 0, 0), process_date=datetime.datetime(2019, 12, 17, 0, 0))"
      ]
     },
     "execution_count": 7,
     "metadata": {},
     "output_type": "execute_result"
    }
   ],
   "source": [
    "df.head()"
   ]
  },
  {
   "cell_type": "code",
   "execution_count": 8,
   "metadata": {},
   "outputs": [
    {
     "name": "stdout",
     "output_type": "stream",
     "text": [
      "Numeric columns ['job_id', '#_of_positions', 'salary_range_from', 'salary_range_to']\n",
      "\n",
      "Categorical columns ['agency', 'posting_type', 'business_title', 'civil_service_title', 'title_code_no', 'level', 'job_category', 'full-time/part-time_indicator', 'salary_frequency', 'work_location', 'division/work_unit', 'job_description', 'minimum_qual_requirements', 'preferred_skills', 'additional_information', 'to_apply', 'hours/shift', 'work_location_1', 'recruitment_contact', 'residency_requirement']\n",
      "\n",
      "Timestamp columns ['posting_date', 'post_until', 'posting_updated', 'process_date']\n"
     ]
    }
   ],
   "source": [
    "column_types(df)"
   ]
  },
  {
   "cell_type": "code",
   "execution_count": 9,
   "metadata": {},
   "outputs": [
    {
     "data": {
      "text/plain": [
       "DataFrame[job_id: int, agency: string, posting_type: string, #_of_positions: int, business_title: string, civil_service_title: string, title_code_no: string, level: string, job_category: string, full-time/part-time_indicator: string, salary_range_from: double, salary_range_to: double, salary_frequency: string, work_location: string, division/work_unit: string, job_description: string, minimum_qual_requirements: string, preferred_skills: string, additional_information: string, to_apply: string, hours/shift: string, work_location_1: string, recruitment_contact: string, residency_requirement: string, posting_date: timestamp, post_until: timestamp, posting_updated: timestamp, process_date: timestamp]"
      ]
     },
     "execution_count": 9,
     "metadata": {},
     "output_type": "execute_result"
    }
   ],
   "source": [
    "df"
   ]
  },
  {
   "cell_type": "code",
   "execution_count": 10,
   "metadata": {},
   "outputs": [],
   "source": [
    "pdf = df.toPandas()"
   ]
  },
  {
   "cell_type": "code",
   "execution_count": 11,
   "metadata": {},
   "outputs": [
    {
     "name": "stdout",
     "output_type": "stream",
     "text": [
      "<class 'pandas.core.frame.DataFrame'>\n",
      "RangeIndex: 2915 entries, 0 to 2914\n",
      "Data columns (total 28 columns):\n",
      " #   Column                         Non-Null Count  Dtype         \n",
      "---  ------                         --------------  -----         \n",
      " 0   job_id                         2915 non-null   int32         \n",
      " 1   agency                         2915 non-null   object        \n",
      " 2   posting_type                   2915 non-null   object        \n",
      " 3   #_of_positions                 2915 non-null   int32         \n",
      " 4   business_title                 2915 non-null   object        \n",
      " 5   civil_service_title            2915 non-null   object        \n",
      " 6   title_code_no                  2915 non-null   object        \n",
      " 7   level                          2915 non-null   object        \n",
      " 8   job_category                   2913 non-null   object        \n",
      " 9   full-time/part-time_indicator  2722 non-null   object        \n",
      " 10  salary_range_from              2915 non-null   float64       \n",
      " 11  salary_range_to                2915 non-null   float64       \n",
      " 12  salary_frequency               2915 non-null   object        \n",
      " 13  work_location                  2915 non-null   object        \n",
      " 14  division/work_unit             2915 non-null   object        \n",
      " 15  job_description                2915 non-null   object        \n",
      " 16  minimum_qual_requirements      2895 non-null   object        \n",
      " 17  preferred_skills               2528 non-null   object        \n",
      " 18  additional_information         1828 non-null   object        \n",
      " 19  to_apply                       2914 non-null   object        \n",
      " 20  hours/shift                    876 non-null    object        \n",
      " 21  work_location_1                1337 non-null   object        \n",
      " 22  recruitment_contact            0 non-null      object        \n",
      " 23  residency_requirement          2911 non-null   object        \n",
      " 24  posting_date                   2911 non-null   datetime64[ns]\n",
      " 25  post_until                     863 non-null    datetime64[ns]\n",
      " 26  posting_updated                2911 non-null   datetime64[ns]\n",
      " 27  process_date                   2911 non-null   datetime64[ns]\n",
      "dtypes: datetime64[ns](4), float64(2), int32(2), object(20)\n",
      "memory usage: 615.0+ KB\n"
     ]
    }
   ],
   "source": [
    "pdf.info()"
   ]
  },
  {
   "cell_type": "code",
   "execution_count": 12,
   "metadata": {},
   "outputs": [],
   "source": [
    "pd.set_option('display.max_rows', 500)"
   ]
  },
  {
   "cell_type": "code",
   "execution_count": 13,
   "metadata": {},
   "outputs": [
    {
     "data": {
      "text/plain": [
       "job_id                             0.000000\n",
       "agency                             0.000000\n",
       "posting_type                       0.000000\n",
       "#_of_positions                     0.000000\n",
       "business_title                     0.000000\n",
       "civil_service_title                0.000000\n",
       "title_code_no                      0.000000\n",
       "level                              0.000000\n",
       "job_category                       0.068611\n",
       "full-time/part-time_indicator      6.620926\n",
       "salary_range_from                  0.000000\n",
       "salary_range_to                    0.000000\n",
       "salary_frequency                   0.000000\n",
       "work_location                      0.000000\n",
       "division/work_unit                 0.000000\n",
       "job_description                    0.000000\n",
       "minimum_qual_requirements          0.686106\n",
       "preferred_skills                  13.276158\n",
       "additional_information            37.289880\n",
       "to_apply                           0.034305\n",
       "hours/shift                       69.948542\n",
       "work_location_1                   54.133791\n",
       "recruitment_contact              100.000000\n",
       "residency_requirement              0.137221\n",
       "posting_date                       0.137221\n",
       "post_until                        70.394511\n",
       "posting_updated                    0.137221\n",
       "process_date                       0.137221\n",
       "dtype: float64"
      ]
     },
     "execution_count": 13,
     "metadata": {},
     "output_type": "execute_result"
    }
   ],
   "source": [
    "pdf.isnull().mean() * 100"
   ]
  },
  {
   "cell_type": "markdown",
   "metadata": {},
   "source": [
    "# Missings stat  <a id=\"2\"></a> <br>"
   ]
  },
  {
   "cell_type": "code",
   "execution_count": 14,
   "metadata": {},
   "outputs": [
    {
     "data": {
      "text/plain": [
       "<Figure size 1080x1080 with 0 Axes>"
      ]
     },
     "metadata": {},
     "output_type": "display_data"
    },
    {
     "data": {
      "image/png": "[encoded data removed]",
      "text/plain": [
       "<Figure size 1141.25x360 with 1 Axes>"
      ]
     },
     "metadata": {
      "needs_background": "light"
     },
     "output_type": "display_data"
    }
   ],
   "source": [
    "plt.figure(figsize=(15,15))\n",
    "sns.displot(\n",
    "    data=pdf.isna().melt(value_name=\"missing\"),\n",
    "    y=\"variable\",\n",
    "    hue=\"missing\",\n",
    "    multiple=\"fill\",\n",
    "    aspect=3\n",
    ")\n",
    "plt.savefig(\"visualizing_missing_data_with_barplot_Seaborn_distplot.png\", dpi=300)"
   ]
  },
  {
   "cell_type": "markdown",
   "metadata": {},
   "source": [
    "We can see that the \"Recruitment Contact\" column is completely empty\n",
    "And we can probably drop it.\n",
    "\n",
    "Lets see on \"Full-Time/Part-Time indicator\",\"Job Category\",\"Preferred Skills\",\"Additional Information\",\"Minimum Qual Requirements\",\"To Apply\", \"Hours/Shift\", \"Work Location 1\", \"Residency Requirement\"\n",
    "\n",
    "All of them are \"Categorical columns\"\n",
    "\n",
    "\"Posting Date\" \"Post Until\" \"Posting Updated\" \"Process Date\" are datetime, and we can see that \"Post Until\" is missing on 70% its mean that Job vacancies is active\n"
   ]
  },
  {
   "cell_type": "markdown",
   "metadata": {},
   "source": [
    "# Feature Splitting <a id=\"3\"></a> <br>"
   ]
  },
  {
   "cell_type": "code",
   "execution_count": 15,
   "metadata": {},
   "outputs": [],
   "source": [
    "df = df.withColumn('posting_date', df['posting_date'].cast('string').substr(1, 10))\\\n",
    ".withColumn('post_until', df['post_until'].cast('string').substr(1, 10))\\\n",
    ".withColumn('posting_updated', df['posting_updated'].cast('string').substr(1, 10))\\\n",
    ".withColumn('process_date', df['process_date'].cast('string').substr(1, 10))\n",
    "\n",
    "#Remove excess and convert the date to string format convenient for further aggregation, at any time you can convert it to date format"
   ]
  },
  {
   "cell_type": "markdown",
   "metadata": {},
   "source": [
    "# Imputation<a id=\"4\"></a> <br>"
   ]
  },
  {
   "cell_type": "code",
   "execution_count": 16,
   "metadata": {},
   "outputs": [],
   "source": [
    "df = df.na.fill(\"5999-12-31\",[\"post_until\"]) #This method is often used in banks to fill in blank data"
   ]
  },
  {
   "cell_type": "code",
   "execution_count": 17,
   "metadata": {},
   "outputs": [],
   "source": [
    "df = df.na.fill(\"NAN\",[\"preferred_skills\"])"
   ]
  },
  {
   "cell_type": "markdown",
   "metadata": {},
   "source": [
    "#### So now we convert columns in date type, which is better for future aggregations"
   ]
  },
  {
   "cell_type": "markdown",
   "metadata": {
    "tags": []
   },
   "source": [
    "# What's the number of jobs posting per category (Top 10) <a id=\"6\"></a> <br>"
   ]
  },
  {
   "cell_type": "code",
   "execution_count": 18,
   "metadata": {},
   "outputs": [
    {
     "data": {
      "text/plain": [
       "[Row(job_category='Engineering, Architecture, & Planning', count=497),\n",
       " Row(job_category='Technology, Data & Innovation', count=312),\n",
       " Row(job_category='Legal Affairs', count=224),\n",
       " Row(job_category='Public Safety, Inspections, & Enforcement', count=179),\n",
       " Row(job_category='Building Operations & Maintenance', count=177),\n",
       " Row(job_category='Finance, Accounting, & Procurement', count=168),\n",
       " Row(job_category='Administration & Human Resources', count=131),\n",
       " Row(job_category='Constituent Services & Community Programs', count=129),\n",
       " Row(job_category='Health', count=125),\n",
       " Row(job_category='Policy, Research & Analysis', count=124)]"
      ]
     },
     "execution_count": 18,
     "metadata": {},
     "output_type": "execute_result"
    }
   ],
   "source": [
    "df.groupBy(\"job_category\").count().sort(desc(\"count\")).head(10)"
   ]
  },
  {
   "cell_type": "code",
   "execution_count": 19,
   "metadata": {},
   "outputs": [
    {
     "name": "stdout",
     "output_type": "stream",
     "text": [
      "+--------------------+-----+\n",
      "|        job_category|count|\n",
      "+--------------------+-----+\n",
      "|Engineering, Arch...|  497|\n",
      "|Technology, Data ...|  312|\n",
      "|       Legal Affairs|  224|\n",
      "|Public Safety, In...|  179|\n",
      "|Building Operatio...|  177|\n",
      "|Finance, Accounti...|  168|\n",
      "|Administration & ...|  131|\n",
      "|Constituent Servi...|  129|\n",
      "|              Health|  125|\n",
      "|Policy, Research ...|  124|\n",
      "+--------------------+-----+\n",
      "only showing top 10 rows\n",
      "\n"
     ]
    }
   ],
   "source": [
    "df.groupBy(\"job_category\").count().sort(desc(\"count\")).show(10)"
   ]
  },
  {
   "cell_type": "code",
   "execution_count": 20,
   "metadata": {},
   "outputs": [],
   "source": [
    "df.groupBy(\"job_category\").count().sort(desc(\"count\")).limit(10).toPandas().to_csv('result/1_jobs_posting_per_category_Top_10.csv')"
   ]
  },
  {
   "cell_type": "code",
   "execution_count": 21,
   "metadata": {},
   "outputs": [],
   "source": [
    "df.groupBy(\"job_category\").count().sort(desc(\"count\")).toPandas().to_csv('result/1_jobs_posting_per_category_all.csv')"
   ]
  },
  {
   "cell_type": "markdown",
   "metadata": {
    "tags": []
   },
   "source": [
    "#  What's the salary distribution per job category?<a id=\"7\"></a> <br>"
   ]
  },
  {
   "cell_type": "code",
   "execution_count": 22,
   "metadata": {},
   "outputs": [],
   "source": [
    "def normalized_salary_from(frequency,salary_from,Hours):\n",
    "    if frequency == \"Hourly\":\n",
    "        return salary_from * Hours * 52\n",
    "    elif frequency == \"Daily\":\n",
    "        return salary_from * 5 * 52\n",
    "    else:\n",
    "        return salary_from\n",
    "\n",
    "def normalized_salary_to(frequency,salary_from,Hours):\n",
    "    if frequency == \"Hourly\":\n",
    "        return salary_from * Hours * 52\n",
    "    elif frequency == \"Daily\":\n",
    "        return salary_from*5*52\n",
    "    else:\n",
    "        return salary_from"
   ]
  },
  {
   "cell_type": "code",
   "execution_count": 23,
   "metadata": {},
   "outputs": [],
   "source": [
    "udf_normalized_salary_from = udf(normalized_salary_from, DoubleType())\n",
    "udf_normalized_salary_to = udf(normalized_salary_to, DoubleType())"
   ]
  },
  {
   "cell_type": "code",
   "execution_count": 24,
   "metadata": {},
   "outputs": [],
   "source": [
    "df = df.withColumn(\"Hours\", \n",
    "                    when((col(\"hours/shift\").contains(\"35\")),35)\\\n",
    "                   .when((col(\"hours/shift\").contains(\"40\")),40)\\\n",
    "                   .when((col(\"hours/shift\").contains(\"32\")),32)\\\n",
    "                   .otherwise(40))"
   ]
  },
  {
   "cell_type": "code",
   "execution_count": 25,
   "metadata": {},
   "outputs": [],
   "source": [
    "df = df.withColumn(\"normalized_salary_from\",round(udf_normalized_salary_from(col(\"salary_frequency\"),col(\"salary_range_from\"),col(\"Hours\")),2))"
   ]
  },
  {
   "cell_type": "code",
   "execution_count": 26,
   "metadata": {},
   "outputs": [],
   "source": [
    "df = df.withColumn(\"normalized_salary_to\",round(udf_normalized_salary_to(col(\"salary_frequency\"),col(\"salary_range_to\"),col(\"Hours\")),2))"
   ]
  },
  {
   "cell_type": "code",
   "execution_count": 27,
   "metadata": {},
   "outputs": [
    {
     "name": "stderr",
     "output_type": "stream",
     "text": [
      "                                                                                \r"
     ]
    },
    {
     "data": {
      "text/plain": [
       "16"
      ]
     },
     "execution_count": 27,
     "metadata": {},
     "output_type": "execute_result"
    }
   ],
   "source": [
    "df.filter(\"normalized_salary_from = 0.0\").count()"
   ]
  },
  {
   "cell_type": "code",
   "execution_count": 28,
   "metadata": {},
   "outputs": [],
   "source": [
    "avg_full_norm_sal_from={}\n",
    "for i in df.select(mean(col(\"normalized_salary_from\"))).collect():\n",
    "    avg_full_norm_sal_from.update(i.asDict())"
   ]
  },
  {
   "cell_type": "code",
   "execution_count": 29,
   "metadata": {},
   "outputs": [],
   "source": [
    "def normalized_salary_from_with_avg(salary_range_from):\n",
    "    if salary_range_from == 0.0:\n",
    "        return avg_full_norm_sal_from[\"avg(normalized_salary_from)\"]\n",
    "    else:\n",
    "        return salary_range_from\n",
    "\n",
    "normalized_salary_from_with_avg = udf(normalized_salary_from_with_avg, DoubleType())"
   ]
  },
  {
   "cell_type": "code",
   "execution_count": 30,
   "metadata": {},
   "outputs": [],
   "source": [
    "df = df.withColumn(\"normalized_salary_from\",round(normalized_salary_from_with_avg(col(\"normalized_salary_from\")),2))"
   ]
  },
  {
   "cell_type": "code",
   "execution_count": 31,
   "metadata": {},
   "outputs": [
    {
     "data": {
      "text/plain": [
       "0"
      ]
     },
     "execution_count": 31,
     "metadata": {},
     "output_type": "execute_result"
    }
   ],
   "source": [
    "df.filter(\"normalized_salary_from = 0.0\").count()"
   ]
  },
  {
   "cell_type": "code",
   "execution_count": 32,
   "metadata": {},
   "outputs": [],
   "source": [
    "df = df.withColumn('avg_normalized_salary', F.expr('+'.join([\"normalized_salary_from\",\"normalized_salary_to\"]))/2)"
   ]
  },
  {
   "cell_type": "code",
   "execution_count": 33,
   "metadata": {
    "tags": []
   },
   "outputs": [],
   "source": [
    "disterbution_df = df.groupBy(\"job_category\").agg({'normalized_salary_from':'min', 'normalized_salary_to':'max', 'avg_normalized_salary':'avg'})"
   ]
  },
  {
   "cell_type": "code",
   "execution_count": 34,
   "metadata": {},
   "outputs": [],
   "source": [
    "disterbution_pdf = disterbution_df.toPandas()"
   ]
  },
  {
   "cell_type": "code",
   "execution_count": 35,
   "metadata": {},
   "outputs": [
    {
     "data": {
      "image/png": "[encoded data removed]",
      "text/plain": [
       "<Figure size 720x504 with 1 Axes>"
      ]
     },
     "metadata": {
      "needs_background": "light"
     },
     "output_type": "display_data"
    }
   ],
   "source": [
    "plt.figure(figsize=(10,7))\n",
    "disterbution_pdf[\"min(normalized_salary_from)\"].hist(bins=20,ec='black')\n",
    "plt.title('disterbution min salary');\n",
    "plt.savefig(\"result/2_distribution_per_job_category_min_salary.png\", dpi=300)"
   ]
  },
  {
   "cell_type": "code",
   "execution_count": 36,
   "metadata": {},
   "outputs": [
    {
     "data": {
      "image/png": "[encoded data removed]",
      "text/plain": [
       "<Figure size 720x504 with 1 Axes>"
      ]
     },
     "metadata": {
      "needs_background": "light"
     },
     "output_type": "display_data"
    }
   ],
   "source": [
    "plt.figure(figsize=(10,7))\n",
    "disterbution_pdf[\"avg(avg_normalized_salary)\"].hist(bins=20,ec='black')\n",
    "plt.title('disterbution avg salary');\n",
    "plt.savefig(\"result/2_distribution_per_job_category_avg_salary.png\", dpi=300)"
   ]
  },
  {
   "cell_type": "code",
   "execution_count": 37,
   "metadata": {},
   "outputs": [
    {
     "data": {
      "image/png": "[encoded data removed]",
      "text/plain": [
       "<Figure size 720x504 with 1 Axes>"
      ]
     },
     "metadata": {
      "needs_background": "light"
     },
     "output_type": "display_data"
    }
   ],
   "source": [
    "plt.figure(figsize=(10,7))\n",
    "disterbution_pdf[\"max(normalized_salary_to)\"].hist(bins=20,ec='black')\n",
    "plt.title('disterbution max salary');\n",
    "plt.savefig(\"result/2_distribution_per_job_category_max_salary.png\", dpi=300)"
   ]
  },
  {
   "cell_type": "markdown",
   "metadata": {
    "tags": []
   },
   "source": [
    "# Is there any correlation between the higher degree and the salary?<a id=\"8\"></a> <br>"
   ]
  },
  {
   "cell_type": "code",
   "execution_count": 38,
   "metadata": {},
   "outputs": [],
   "source": [
    "df=df.withColumn('degree_text',concat(col(\"job_description\"),\\\n",
    "                                      lit(\" , \"),col(\"minimum_qual_requirements\"),\\\n",
    "                                      lit(\" , \"),col(\"preferred_skills\"),\\\n",
    "                                      lit(\" , \"),col(\"additional_information\")))"
   ]
  },
  {
   "cell_type": "code",
   "execution_count": 39,
   "metadata": {},
   "outputs": [
    {
     "data": {
      "text/plain": [
       "59"
      ]
     },
     "execution_count": 39,
     "metadata": {},
     "output_type": "execute_result"
    }
   ],
   "source": [
    "df.select(\"degree_text\").filter(\"degree_text like '%Masters%'\").count()"
   ]
  },
  {
   "cell_type": "code",
   "execution_count": 40,
   "metadata": {},
   "outputs": [],
   "source": [
    "df = df.withColumn(\"degree_text\", F.regexp_replace(\"degree_text\", \"â€™\", \"\"))\\\n",
    "        .withColumn(\"degree_text\", F.regexp_replace(\"degree_text\", \"'\", \"\"))\\\n",
    "        .withColumn(\"degree_text\", F.lower(\"degree_text\"))"
   ]
  },
  {
   "cell_type": "markdown",
   "metadata": {},
   "source": [
    "1.intern, \n",
    "2.BA, Bachelor, BS\n",
    "3.Master, graduate degree, Masters\n",
    "4.MBA\n"
   ]
  },
  {
   "cell_type": "code",
   "execution_count": 41,
   "metadata": {},
   "outputs": [
    {
     "data": {
      "text/plain": [
       "18"
      ]
     },
     "execution_count": 41,
     "metadata": {},
     "output_type": "execute_result"
    }
   ],
   "source": [
    "df.filter(\"degree_text like '% associates %'\").select(\"degree_text\").count()"
   ]
  },
  {
   "cell_type": "code",
   "execution_count": 42,
   "metadata": {},
   "outputs": [
    {
     "data": {
      "text/plain": [
       "18"
      ]
     },
     "execution_count": 42,
     "metadata": {},
     "output_type": "execute_result"
    }
   ],
   "source": [
    "df.filter(\"degree_text like '% intern %'\").select(\"degree_text\").count()"
   ]
  },
  {
   "cell_type": "code",
   "execution_count": 43,
   "metadata": {},
   "outputs": [
    {
     "data": {
      "text/plain": [
       "2"
      ]
     },
     "execution_count": 43,
     "metadata": {},
     "output_type": "execute_result"
    }
   ],
   "source": [
    "df.filter(\"degree_text like '% ba %'\").select(\"degree_text\").count()"
   ]
  },
  {
   "cell_type": "code",
   "execution_count": 44,
   "metadata": {},
   "outputs": [
    {
     "data": {
      "text/plain": [
       "6"
      ]
     },
     "execution_count": 44,
     "metadata": {},
     "output_type": "execute_result"
    }
   ],
   "source": [
    "df.filter(\"degree_text like '% bachelor %'\").select(\"degree_text\").count()"
   ]
  },
  {
   "cell_type": "code",
   "execution_count": 45,
   "metadata": {},
   "outputs": [
    {
     "data": {
      "text/plain": [
       "656"
      ]
     },
     "execution_count": 45,
     "metadata": {},
     "output_type": "execute_result"
    }
   ],
   "source": [
    "df.filter(\"degree_text like '% masters %'\").select(\"degree_text\").count()"
   ]
  },
  {
   "cell_type": "code",
   "execution_count": 46,
   "metadata": {},
   "outputs": [
    {
     "data": {
      "text/plain": [
       "12"
      ]
     },
     "execution_count": 46,
     "metadata": {},
     "output_type": "execute_result"
    }
   ],
   "source": [
    "df.filter(\"degree_text like '% graduate degree %'\").select(\"degree_text\").count()"
   ]
  },
  {
   "cell_type": "code",
   "execution_count": 47,
   "metadata": {},
   "outputs": [
    {
     "data": {
      "text/plain": [
       "0"
      ]
     },
     "execution_count": 47,
     "metadata": {},
     "output_type": "execute_result"
    }
   ],
   "source": [
    "df.filter(\"degree_text like '% phd %'\").select(\"degree_text\").count()"
   ]
  },
  {
   "cell_type": "code",
   "execution_count": 48,
   "metadata": {},
   "outputs": [],
   "source": [
    "# Categorical Encoding\n",
    "df = df.withColumn(\"Degree\", \n",
    "                    when((col(\"degree_text\").contains(\" intern \")),1)\\\n",
    "                   .when((col(\"degree_text\").contains(\" associates \")),1)\\\n",
    "                   .when((col(\"degree_text\").contains(\" ba \")),2)\\\n",
    "                   .when((col(\"degree_text\").contains(\" bachelor \")),2)\\\n",
    "                   .when((col(\"degree_text\").contains(\" masters \")),3)\\\n",
    "                   .when((col(\"degree_text\").contains(\" graduate degree \")),3)\\\n",
    "                   .otherwise(4))"
   ]
  },
  {
   "cell_type": "code",
   "execution_count": 49,
   "metadata": {},
   "outputs": [
    {
     "data": {
      "text/plain": [
       "[Row(Degree=1), Row(Degree=3), Row(Degree=4), Row(Degree=2)]"
      ]
     },
     "execution_count": 49,
     "metadata": {},
     "output_type": "execute_result"
    }
   ],
   "source": [
    "df.select(\"Degree\").distinct().head(5)"
   ]
  },
  {
   "cell_type": "code",
   "execution_count": 50,
   "metadata": {},
   "outputs": [],
   "source": [
    "deegree_df = df.groupBy(\"Degree\").agg({'avg_normalized_salary':'avg'})"
   ]
  },
  {
   "cell_type": "code",
   "execution_count": 51,
   "metadata": {},
   "outputs": [],
   "source": [
    "deegree_pdf = deegree_df.toPandas()"
   ]
  },
  {
   "cell_type": "code",
   "execution_count": 52,
   "metadata": {},
   "outputs": [
    {
     "data": {
      "text/html": [
       "<div>\n",
       "<style scoped>\n",
       "    .dataframe tbody tr th:only-of-type {\n",
       "        vertical-align: middle;\n",
       "    }\n",
       "\n",
       "    .dataframe tbody tr th {\n",
       "        vertical-align: top;\n",
       "    }\n",
       "\n",
       "    .dataframe thead th {\n",
       "        text-align: right;\n",
       "    }\n",
       "</style>\n",
       "<table border=\"1\" class=\"dataframe\">\n",
       "  <thead>\n",
       "    <tr style=\"text-align: right;\">\n",
       "      <th></th>\n",
       "      <th>Degree</th>\n",
       "      <th>avg(avg_normalized_salary)</th>\n",
       "    </tr>\n",
       "  </thead>\n",
       "  <tbody>\n",
       "    <tr>\n",
       "      <th>Degree</th>\n",
       "      <td>1.000000</td>\n",
       "      <td>0.770438</td>\n",
       "    </tr>\n",
       "    <tr>\n",
       "      <th>avg(avg_normalized_salary)</th>\n",
       "      <td>0.770438</td>\n",
       "      <td>1.000000</td>\n",
       "    </tr>\n",
       "  </tbody>\n",
       "</table>\n",
       "</div>"
      ],
      "text/plain": [
       "                              Degree  avg(avg_normalized_salary)\n",
       "Degree                      1.000000                    0.770438\n",
       "avg(avg_normalized_salary)  0.770438                    1.000000"
      ]
     },
     "execution_count": 52,
     "metadata": {},
     "output_type": "execute_result"
    }
   ],
   "source": [
    "deegree_pdf.corr()"
   ]
  },
  {
   "cell_type": "code",
   "execution_count": 53,
   "metadata": {},
   "outputs": [],
   "source": [
    "deegree_pdf.corr().to_csv('result/3_correlation_between_the_higher_degree_and_the_salary.csv')"
   ]
  },
  {
   "cell_type": "markdown",
   "metadata": {
    "tags": []
   },
   "source": [
    "# Answer: Yes, there is correlation between the higher degree and the salary == 0.770438<a id=\"9\"></a> <br>"
   ]
  },
  {
   "cell_type": "code",
   "execution_count": 54,
   "metadata": {},
   "outputs": [
    {
     "data": {
      "image/png": "[encoded data removed]",
      "text/plain": [
       "<Figure size 720x504 with 1 Axes>"
      ]
     },
     "metadata": {
      "needs_background": "light"
     },
     "output_type": "display_data"
    }
   ],
   "source": [
    "plt.figure(figsize=(10,7))\n",
    "plt.scatter(x=deegree_pdf['Degree'], y=deegree_pdf['avg(avg_normalized_salary)'])\n",
    "plt.savefig(\"result/3_correlation_between_the_higher_degree_and_the_salary.png\", dpi=300)"
   ]
  },
  {
   "cell_type": "markdown",
   "metadata": {
    "tags": []
   },
   "source": [
    "# What's the job posting having the highest salary per agency?<a id=\"10\"></a> <br>"
   ]
  },
  {
   "cell_type": "code",
   "execution_count": 55,
   "metadata": {},
   "outputs": [],
   "source": [
    "windowDept = Window.partitionBy(\"agency\").orderBy(col(\"normalized_salary_to\").desc())\n",
    "df = df.withColumn(\"agency_ranking\",row_number().over(windowDept)) "
   ]
  },
  {
   "cell_type": "code",
   "execution_count": 56,
   "metadata": {},
   "outputs": [],
   "source": [
    "df.filter(col(\"agency_ranking\") == 1).sort('normalized_salary_to', ascending=False)\\\n",
    "                                        .toPandas().to_csv('result/4_job_with_highest_salary_per_agency.csv')"
   ]
  },
  {
   "cell_type": "markdown",
   "metadata": {
    "tags": []
   },
   "source": [
    "# What's the job postings average salary per agency for the last 2 years?<a id=\"11\"></a> <br>"
   ]
  },
  {
   "cell_type": "code",
   "execution_count": 57,
   "metadata": {},
   "outputs": [
    {
     "data": {
      "text/plain": [
       "[Row(max(posting_updated)='2019-12-16', max(process_date)='2019-12-17', max(post_until)='5999-12-31', max(posting_date)='2019-12-17')]"
      ]
     },
     "execution_count": 57,
     "metadata": {},
     "output_type": "execute_result"
    }
   ],
   "source": [
    "df.agg({'process_date':'max', 'posting_updated':'max', 'posting_date':'max', 'post_until':'max'}).head(3)"
   ]
  },
  {
   "cell_type": "code",
   "execution_count": 58,
   "metadata": {},
   "outputs": [
    {
     "data": {
      "text/plain": [
       "[Row(min(posting_updated)='2011-06-24', min(process_date)='2019-12-17', min(post_until)='2019-12-18', min(posting_date)='2011-06-24')]"
      ]
     },
     "execution_count": 58,
     "metadata": {},
     "output_type": "execute_result"
    }
   ],
   "source": [
    "df.agg({'process_date':'min', 'posting_updated':'min', 'posting_date':'min', 'post_until':'min'}).head(3)"
   ]
  },
  {
   "cell_type": "code",
   "execution_count": 59,
   "metadata": {},
   "outputs": [],
   "source": [
    "agency_salary_df = df.where(\"posting_date > '2017-12-17'\").groupBy(\"agency\")\\\n",
    "                                                            .agg({'avg_normalized_salary':'avg'})\\\n",
    "                                                            .sort('avg(avg_normalized_salary)', ascending=False)\\\n",
    "                                                            .toPandas()"
   ]
  },
  {
   "cell_type": "code",
   "execution_count": 60,
   "metadata": {},
   "outputs": [
    {
     "data": {
      "text/html": [
       "<div>\n",
       "<style scoped>\n",
       "    .dataframe tbody tr th:only-of-type {\n",
       "        vertical-align: middle;\n",
       "    }\n",
       "\n",
       "    .dataframe tbody tr th {\n",
       "        vertical-align: top;\n",
       "    }\n",
       "\n",
       "    .dataframe thead th {\n",
       "        text-align: right;\n",
       "    }\n",
       "</style>\n",
       "<table border=\"1\" class=\"dataframe\">\n",
       "  <thead>\n",
       "    <tr style=\"text-align: right;\">\n",
       "      <th></th>\n",
       "      <th>agency</th>\n",
       "      <th>avg(avg_normalized_salary)</th>\n",
       "    </tr>\n",
       "  </thead>\n",
       "  <tbody>\n",
       "    <tr>\n",
       "      <th>0</th>\n",
       "      <td>CONFLICTS OF INTEREST BOARD</td>\n",
       "      <td>135000.000000</td>\n",
       "    </tr>\n",
       "    <tr>\n",
       "      <th>1</th>\n",
       "      <td>NYC EMPLOYEES RETIREMENT SYS</td>\n",
       "      <td>98336.027778</td>\n",
       "    </tr>\n",
       "    <tr>\n",
       "      <th>2</th>\n",
       "      <td>BOARD OF CORRECTION</td>\n",
       "      <td>96222.500000</td>\n",
       "    </tr>\n",
       "    <tr>\n",
       "      <th>3</th>\n",
       "      <td>FINANCIAL INFO SVCS AGENCY</td>\n",
       "      <td>96021.129032</td>\n",
       "    </tr>\n",
       "    <tr>\n",
       "      <th>4</th>\n",
       "      <td>DEPARTMENT OF SANITATION</td>\n",
       "      <td>92158.948000</td>\n",
       "    </tr>\n",
       "    <tr>\n",
       "      <th>5</th>\n",
       "      <td>DEPT OF INFO TECH &amp; TELECOMM</td>\n",
       "      <td>92062.662611</td>\n",
       "    </tr>\n",
       "    <tr>\n",
       "      <th>6</th>\n",
       "      <td>NYC HOUSING AUTHORITY</td>\n",
       "      <td>89986.446285</td>\n",
       "    </tr>\n",
       "    <tr>\n",
       "      <th>7</th>\n",
       "      <td>DEPT OF DESIGN &amp; CONSTRUCTION</td>\n",
       "      <td>87849.338028</td>\n",
       "    </tr>\n",
       "    <tr>\n",
       "      <th>8</th>\n",
       "      <td>MAYORS OFFICE OF CONTRACT SVCS</td>\n",
       "      <td>87357.142857</td>\n",
       "    </tr>\n",
       "    <tr>\n",
       "      <th>9</th>\n",
       "      <td>LAW DEPARTMENT</td>\n",
       "      <td>87349.919853</td>\n",
       "    </tr>\n",
       "    <tr>\n",
       "      <th>10</th>\n",
       "      <td>FIRE DEPARTMENT</td>\n",
       "      <td>86483.353182</td>\n",
       "    </tr>\n",
       "    <tr>\n",
       "      <th>11</th>\n",
       "      <td>NYC DEPT OF VETERANS' SERVICES</td>\n",
       "      <td>82653.000000</td>\n",
       "    </tr>\n",
       "    <tr>\n",
       "      <th>12</th>\n",
       "      <td>BUSINESS INTEGRITY COMMISSION</td>\n",
       "      <td>82117.357143</td>\n",
       "    </tr>\n",
       "    <tr>\n",
       "      <th>13</th>\n",
       "      <td>DEPT OF CITYWIDE ADMIN SVCS</td>\n",
       "      <td>81245.052381</td>\n",
       "    </tr>\n",
       "    <tr>\n",
       "      <th>14</th>\n",
       "      <td>DEPARTMENT OF CORRECTION</td>\n",
       "      <td>81143.116939</td>\n",
       "    </tr>\n",
       "    <tr>\n",
       "      <th>15</th>\n",
       "      <td>DEPARTMENT OF PROBATION</td>\n",
       "      <td>81021.778261</td>\n",
       "    </tr>\n",
       "    <tr>\n",
       "      <th>16</th>\n",
       "      <td>OFFICE OF THE COMPTROLLER</td>\n",
       "      <td>80960.312500</td>\n",
       "    </tr>\n",
       "    <tr>\n",
       "      <th>17</th>\n",
       "      <td>HOUSING PRESERVATION &amp; DVLPMNT</td>\n",
       "      <td>80102.377907</td>\n",
       "    </tr>\n",
       "    <tr>\n",
       "      <th>18</th>\n",
       "      <td>DEPARTMENT OF FINANCE</td>\n",
       "      <td>79593.833333</td>\n",
       "    </tr>\n",
       "    <tr>\n",
       "      <th>19</th>\n",
       "      <td>DEPT OF ENVIRONMENT PROTECTION</td>\n",
       "      <td>78305.605605</td>\n",
       "    </tr>\n",
       "    <tr>\n",
       "      <th>20</th>\n",
       "      <td>DEPT OF PARKS &amp; RECREATION</td>\n",
       "      <td>75144.500000</td>\n",
       "    </tr>\n",
       "    <tr>\n",
       "      <th>21</th>\n",
       "      <td>DEPARTMENT OF CITY PLANNING</td>\n",
       "      <td>74518.790698</td>\n",
       "    </tr>\n",
       "    <tr>\n",
       "      <th>22</th>\n",
       "      <td>HRA/DEPT OF SOCIAL SERVICES</td>\n",
       "      <td>74345.387097</td>\n",
       "    </tr>\n",
       "    <tr>\n",
       "      <th>23</th>\n",
       "      <td>ADMIN FOR CHILDREN'S SVCS</td>\n",
       "      <td>74325.598824</td>\n",
       "    </tr>\n",
       "    <tr>\n",
       "      <th>24</th>\n",
       "      <td>POLICE DEPARTMENT</td>\n",
       "      <td>73517.802041</td>\n",
       "    </tr>\n",
       "    <tr>\n",
       "      <th>25</th>\n",
       "      <td>DEPT OF HEALTH/MENTAL HYGIENE</td>\n",
       "      <td>73172.275482</td>\n",
       "    </tr>\n",
       "    <tr>\n",
       "      <th>26</th>\n",
       "      <td>DEPARTMENT OF TRANSPORTATION</td>\n",
       "      <td>73158.353435</td>\n",
       "    </tr>\n",
       "    <tr>\n",
       "      <th>27</th>\n",
       "      <td>DISTRICT ATTORNEY RICHMOND COU</td>\n",
       "      <td>73064.330000</td>\n",
       "    </tr>\n",
       "    <tr>\n",
       "      <th>28</th>\n",
       "      <td>HUMAN RIGHTS COMMISSION</td>\n",
       "      <td>72307.475882</td>\n",
       "    </tr>\n",
       "    <tr>\n",
       "      <th>29</th>\n",
       "      <td>OFFICE OF MANAGEMENT &amp; BUDGET</td>\n",
       "      <td>71364.678571</td>\n",
       "    </tr>\n",
       "    <tr>\n",
       "      <th>30</th>\n",
       "      <td>OFFICE OF EMERGENCY MANAGEMENT</td>\n",
       "      <td>70995.000000</td>\n",
       "    </tr>\n",
       "    <tr>\n",
       "      <th>31</th>\n",
       "      <td>DISTRICT ATTORNEY KINGS COUNTY</td>\n",
       "      <td>70691.250000</td>\n",
       "    </tr>\n",
       "    <tr>\n",
       "      <th>32</th>\n",
       "      <td>DEPT OF YOUTH &amp; COMM DEV SRVS</td>\n",
       "      <td>69992.176053</td>\n",
       "    </tr>\n",
       "    <tr>\n",
       "      <th>33</th>\n",
       "      <td>CONSUMER AFFAIRS</td>\n",
       "      <td>69469.916667</td>\n",
       "    </tr>\n",
       "    <tr>\n",
       "      <th>34</th>\n",
       "      <td>PRESIDENT BOROUGH OF MANHATTAN</td>\n",
       "      <td>69381.000000</td>\n",
       "    </tr>\n",
       "    <tr>\n",
       "      <th>35</th>\n",
       "      <td>TEACHERS RETIREMENT SYSTEM</td>\n",
       "      <td>69078.500000</td>\n",
       "    </tr>\n",
       "    <tr>\n",
       "      <th>36</th>\n",
       "      <td>DEPARTMENT OF BUSINESS SERV.</td>\n",
       "      <td>69019.678800</td>\n",
       "    </tr>\n",
       "    <tr>\n",
       "      <th>37</th>\n",
       "      <td>DEPARTMENT FOR THE AGING</td>\n",
       "      <td>67232.823333</td>\n",
       "    </tr>\n",
       "    <tr>\n",
       "      <th>38</th>\n",
       "      <td>TAXI &amp; LIMOUSINE COMMISSION</td>\n",
       "      <td>65509.355522</td>\n",
       "    </tr>\n",
       "    <tr>\n",
       "      <th>39</th>\n",
       "      <td>EQUAL EMPLOY PRACTICES COMM</td>\n",
       "      <td>63063.750000</td>\n",
       "    </tr>\n",
       "    <tr>\n",
       "      <th>40</th>\n",
       "      <td>DEPARTMENT OF INVESTIGATION</td>\n",
       "      <td>61121.849057</td>\n",
       "    </tr>\n",
       "    <tr>\n",
       "      <th>41</th>\n",
       "      <td>OFF OF PAYROLL ADMINISTRATION</td>\n",
       "      <td>60824.083333</td>\n",
       "    </tr>\n",
       "    <tr>\n",
       "      <th>42</th>\n",
       "      <td>LANDMARKS PRESERVATION COMM</td>\n",
       "      <td>60103.500000</td>\n",
       "    </tr>\n",
       "    <tr>\n",
       "      <th>43</th>\n",
       "      <td>CIVILIAN COMPLAINT REVIEW BD</td>\n",
       "      <td>58448.775294</td>\n",
       "    </tr>\n",
       "    <tr>\n",
       "      <th>44</th>\n",
       "      <td>BOROUGH PRESIDENT-QUEENS</td>\n",
       "      <td>57984.312500</td>\n",
       "    </tr>\n",
       "    <tr>\n",
       "      <th>45</th>\n",
       "      <td>DEPT. OF HOMELESS SERVICES</td>\n",
       "      <td>56057.125000</td>\n",
       "    </tr>\n",
       "    <tr>\n",
       "      <th>46</th>\n",
       "      <td>TAX COMMISSION</td>\n",
       "      <td>51593.268333</td>\n",
       "    </tr>\n",
       "    <tr>\n",
       "      <th>47</th>\n",
       "      <td>DEPARTMENT OF BUILDINGS</td>\n",
       "      <td>47991.633333</td>\n",
       "    </tr>\n",
       "    <tr>\n",
       "      <th>48</th>\n",
       "      <td>PUBLIC ADMINISTRATOR-NEW YORK</td>\n",
       "      <td>43296.000000</td>\n",
       "    </tr>\n",
       "    <tr>\n",
       "      <th>49</th>\n",
       "      <td>ADMIN TRIALS AND HEARINGS</td>\n",
       "      <td>40363.881200</td>\n",
       "    </tr>\n",
       "    <tr>\n",
       "      <th>50</th>\n",
       "      <td>MANHATTAN COMMUNITY BOARD #8</td>\n",
       "      <td>39520.000000</td>\n",
       "    </tr>\n",
       "  </tbody>\n",
       "</table>\n",
       "</div>"
      ],
      "text/plain": [
       "                            agency  avg(avg_normalized_salary)\n",
       "0      CONFLICTS OF INTEREST BOARD               135000.000000\n",
       "1     NYC EMPLOYEES RETIREMENT SYS                98336.027778\n",
       "2              BOARD OF CORRECTION                96222.500000\n",
       "3       FINANCIAL INFO SVCS AGENCY                96021.129032\n",
       "4         DEPARTMENT OF SANITATION                92158.948000\n",
       "5     DEPT OF INFO TECH & TELECOMM                92062.662611\n",
       "6            NYC HOUSING AUTHORITY                89986.446285\n",
       "7    DEPT OF DESIGN & CONSTRUCTION                87849.338028\n",
       "8   MAYORS OFFICE OF CONTRACT SVCS                87357.142857\n",
       "9                   LAW DEPARTMENT                87349.919853\n",
       "10                 FIRE DEPARTMENT                86483.353182\n",
       "11  NYC DEPT OF VETERANS' SERVICES                82653.000000\n",
       "12   BUSINESS INTEGRITY COMMISSION                82117.357143\n",
       "13     DEPT OF CITYWIDE ADMIN SVCS                81245.052381\n",
       "14        DEPARTMENT OF CORRECTION                81143.116939\n",
       "15         DEPARTMENT OF PROBATION                81021.778261\n",
       "16       OFFICE OF THE COMPTROLLER                80960.312500\n",
       "17  HOUSING PRESERVATION & DVLPMNT                80102.377907\n",
       "18           DEPARTMENT OF FINANCE                79593.833333\n",
       "19  DEPT OF ENVIRONMENT PROTECTION                78305.605605\n",
       "20      DEPT OF PARKS & RECREATION                75144.500000\n",
       "21     DEPARTMENT OF CITY PLANNING                74518.790698\n",
       "22     HRA/DEPT OF SOCIAL SERVICES                74345.387097\n",
       "23       ADMIN FOR CHILDREN'S SVCS                74325.598824\n",
       "24               POLICE DEPARTMENT                73517.802041\n",
       "25   DEPT OF HEALTH/MENTAL HYGIENE                73172.275482\n",
       "26    DEPARTMENT OF TRANSPORTATION                73158.353435\n",
       "27  DISTRICT ATTORNEY RICHMOND COU                73064.330000\n",
       "28         HUMAN RIGHTS COMMISSION                72307.475882\n",
       "29   OFFICE OF MANAGEMENT & BUDGET                71364.678571\n",
       "30  OFFICE OF EMERGENCY MANAGEMENT                70995.000000\n",
       "31  DISTRICT ATTORNEY KINGS COUNTY                70691.250000\n",
       "32   DEPT OF YOUTH & COMM DEV SRVS                69992.176053\n",
       "33                CONSUMER AFFAIRS                69469.916667\n",
       "34  PRESIDENT BOROUGH OF MANHATTAN                69381.000000\n",
       "35      TEACHERS RETIREMENT SYSTEM                69078.500000\n",
       "36    DEPARTMENT OF BUSINESS SERV.                69019.678800\n",
       "37        DEPARTMENT FOR THE AGING                67232.823333\n",
       "38     TAXI & LIMOUSINE COMMISSION                65509.355522\n",
       "39     EQUAL EMPLOY PRACTICES COMM                63063.750000\n",
       "40     DEPARTMENT OF INVESTIGATION                61121.849057\n",
       "41   OFF OF PAYROLL ADMINISTRATION                60824.083333\n",
       "42     LANDMARKS PRESERVATION COMM                60103.500000\n",
       "43    CIVILIAN COMPLAINT REVIEW BD                58448.775294\n",
       "44        BOROUGH PRESIDENT-QUEENS                57984.312500\n",
       "45      DEPT. OF HOMELESS SERVICES                56057.125000\n",
       "46                  TAX COMMISSION                51593.268333\n",
       "47         DEPARTMENT OF BUILDINGS                47991.633333\n",
       "48   PUBLIC ADMINISTRATOR-NEW YORK                43296.000000\n",
       "49       ADMIN TRIALS AND HEARINGS                40363.881200\n",
       "50    MANHATTAN COMMUNITY BOARD #8                39520.000000"
      ]
     },
     "execution_count": 60,
     "metadata": {},
     "output_type": "execute_result"
    }
   ],
   "source": [
    "agency_salary_df"
   ]
  },
  {
   "cell_type": "code",
   "execution_count": 61,
   "metadata": {},
   "outputs": [],
   "source": [
    "agency_salary_df.to_csv('result/5_average_salary_per_agency_for_the_last_2_years.csv')"
   ]
  },
  {
   "cell_type": "code",
   "execution_count": 62,
   "metadata": {},
   "outputs": [
    {
     "data": {
      "image/png": "[encoded data removed]",
      "text/plain": [
       "<Figure size 720x720 with 1 Axes>"
      ]
     },
     "metadata": {
      "needs_background": "light"
     },
     "output_type": "display_data"
    }
   ],
   "source": [
    "plt.rcParams['figure.figsize']=(10,10)\n",
    "sns.barplot(x='avg(avg_normalized_salary)', y='agency',data=agency_salary_df)\n",
    "plt.savefig(\"result/5_average_salary_per_agency_for_the_last_2_years.png\", dpi=300)"
   ]
  },
  {
   "cell_type": "markdown",
   "metadata": {
    "tags": []
   },
   "source": [
    "# What are the highest paid skills in the US market?<a id=\"12\"></a> <br>\n"
   ]
  },
  {
   "cell_type": "markdown",
   "metadata": {},
   "source": [
    "### first of all we should find median fo normalized_salary_to per job_category"
   ]
  },
  {
   "cell_type": "code",
   "execution_count": 63,
   "metadata": {},
   "outputs": [],
   "source": [
    "median_salary_df = df.groupBy('job_category').agg(F.collect_list('normalized_salary_to').alias('salary_array'))"
   ]
  },
  {
   "cell_type": "code",
   "execution_count": 64,
   "metadata": {},
   "outputs": [
    {
     "data": {
      "text/plain": [
       "[Row(job_category=None, salary_array=[65485.0, 162014.0]),\n",
       " Row(job_category='Administration & Human Resources', salary_array=[60000.0, 125000.0, 125000.0, 68181.0, 94392.0, 34161.4, 168433.0, 168433.0, 64662.0, 32781.0, 32781.0, 37320.4, 57590.0, 62684.0, 71794.0, 41392.0, 55228.0, 98100.0, 36218.0, 33764.0, 134433.0, 36400.0, 40962.0, 73147.0, 74479.0, 57093.0, 36309.0, 81535.0, 81535.0, 161497.0, 57093.0, 55228.0, 38439.65, 137410.0, 80000.0, 60000.0, 110000.0, 54913.0, 55430.0, 50763.0, 35984.0, 40629.0, 57236.0, 33906.0, 53993.0, 100000.0, 81535.0, 53993.0, 57590.0, 41848.0, 64662.0, 36218.0, 35098.0, 54879.0, 71794.0, 35984.0, 36218.0, 34161.4, 61000.0, 60990.0, 50000.0, 33906.0, 83981.0, 77000.0, 97873.0, 55228.0, 98100.0, 75000.0, 136023.0, 95022.0, 150371.0, 71794.0, 36400.0, 40962.0, 61000.0, 71794.0, 68181.0, 36309.0, 37320.4, 35984.0, 35984.0, 137410.0, 62684.0, 36218.0, 63794.0, 150371.0, 178873.0, 85000.0, 110000.0, 54879.0, 50763.0, 60000.0, 36218.0, 57236.0, 57236.0, 73147.0, 64662.0, 97873.0, 57093.0, 68267.0, 55228.0, 57093.0, 54913.0, 66195.0, 58478.0, 60000.0, 60000.0, 75000.0, 65000.0, 63794.0, 38439.65, 55228.0, 80000.0, 150371.0, 134433.0, 144145.0, 56798.0, 81535.0, 40629.0, 56798.0, 33764.0, 55228.0, 55228.0, 83981.0, 41392.0, 161497.0, 68267.0, 48183.0, 64662.0, 54913.0, 36218.0]),\n",
       " Row(job_category='Administration & Human Resources Building Operations & Maintenance', salary_array=[42799.0, 42799.0, 120000.0, 120000.0, 40629.0, 75591.0, 62820.0]),\n",
       " Row(job_category='Administration & Human Resources Building Operations & Maintenance Policy, Research & Analysis', salary_array=[83981.0, 83981.0]),\n",
       " Row(job_category='Administration & Human Resources Communications & Intergovernmental Affairs', salary_array=[58478.0, 58478.0]),\n",
       " Row(job_category='Administration & Human Resources Communications & Intergovernmental Affairs Engineering, Architecture, & Planning Policy, Research & Analysis', salary_array=[100000.0]),\n",
       " Row(job_category='Administration & Human Resources Communications & Intergovernmental Affairs Health Public Safety, Inspections, & Enforcement', salary_array=[98908.0, 98908.0]),\n",
       " Row(job_category='Administration & Human Resources Communications & Intergovernmental Affairs Legal Affairs Policy, Research & Analysis', salary_array=[91563.0, 91563.0]),\n",
       " Row(job_category='Administration & Human Resources Communications & Intergovernmental Affairs Public Safety, Inspections, & Enforcement', salary_array=[36309.0, 36309.0]),\n",
       " Row(job_category='Administration & Human Resources Constituent Services & Community Programs', salary_array=[100000.0, 100000.0, 60000.0, 100000.0, 100000.0])]"
      ]
     },
     "execution_count": 64,
     "metadata": {},
     "output_type": "execute_result"
    }
   ],
   "source": [
    "median_salary_df.head(10)"
   ]
  },
  {
   "cell_type": "code",
   "execution_count": 65,
   "metadata": {},
   "outputs": [],
   "source": [
    "median_salary_df = median_salary_df.withColumn('salary_array', F.array_sort(F.expr('filter(salary_array, x -> x is not null)')))\\\n",
    "                .withColumn('size', F.size('salary_array'))\\\n",
    "                .withColumn('median_col', F.when(F.col('size') % 2 == 0,\n",
    "                                            (F.expr('salary_array[int(size/2)]') + F.expr('salary_array[int(size/2)-1]'))/2\n",
    "                                            ).otherwise(F.expr('salary_array[int(size/2)]'))\n",
    "                       )"
   ]
  },
  {
   "cell_type": "code",
   "execution_count": 66,
   "metadata": {},
   "outputs": [
    {
     "data": {
      "text/plain": [
       "[Row(job_category=None, salary_array=[65485.0, 162014.0], size=2, median_col=113749.5),\n",
       " Row(job_category='Administration & Human Resources', salary_array=[32781.0, 32781.0, 33764.0, 33764.0, 33906.0, 33906.0, 34161.4, 34161.4, 35098.0, 35984.0, 35984.0, 35984.0, 35984.0, 36218.0, 36218.0, 36218.0, 36218.0, 36218.0, 36218.0, 36309.0, 36309.0, 36400.0, 36400.0, 37320.4, 37320.4, 38439.65, 38439.65, 40629.0, 40629.0, 40962.0, 40962.0, 41392.0, 41392.0, 41848.0, 48183.0, 50000.0, 50763.0, 50763.0, 53993.0, 53993.0, 54879.0, 54879.0, 54913.0, 54913.0, 54913.0, 55228.0, 55228.0, 55228.0, 55228.0, 55228.0, 55228.0, 55228.0, 55430.0, 56798.0, 56798.0, 57093.0, 57093.0, 57093.0, 57093.0, 57236.0, 57236.0, 57236.0, 57590.0, 57590.0, 58478.0, 60000.0, 60000.0, 60000.0, 60000.0, 60000.0, 60990.0, 61000.0, 61000.0, 62684.0, 62684.0, 63794.0, 63794.0, 64662.0, 64662.0, 64662.0, 64662.0, 65000.0, 66195.0, 68181.0, 68181.0, 68267.0, 68267.0, 71794.0, 71794.0, 71794.0, 71794.0, 73147.0, 73147.0, 74479.0, 75000.0, 75000.0, 77000.0, 80000.0, 80000.0, 81535.0, 81535.0, 81535.0, 81535.0, 83981.0, 83981.0, 85000.0, 94392.0, 95022.0, 97873.0, 97873.0, 98100.0, 98100.0, 100000.0, 110000.0, 110000.0, 125000.0, 125000.0, 134433.0, 134433.0, 136023.0, 137410.0, 137410.0, 144145.0, 150371.0, 150371.0, 150371.0, 161497.0, 161497.0, 168433.0, 168433.0, 178873.0], size=131, median_col=60000.0),\n",
       " Row(job_category='Administration & Human Resources Building Operations & Maintenance', salary_array=[40629.0, 42799.0, 42799.0, 62820.0, 75591.0, 120000.0, 120000.0], size=7, median_col=62820.0),\n",
       " Row(job_category='Administration & Human Resources Building Operations & Maintenance Policy, Research & Analysis', salary_array=[83981.0, 83981.0], size=2, median_col=83981.0),\n",
       " Row(job_category='Administration & Human Resources Communications & Intergovernmental Affairs', salary_array=[58478.0, 58478.0], size=2, median_col=58478.0),\n",
       " Row(job_category='Administration & Human Resources Communications & Intergovernmental Affairs Engineering, Architecture, & Planning Policy, Research & Analysis', salary_array=[100000.0], size=1, median_col=100000.0),\n",
       " Row(job_category='Administration & Human Resources Communications & Intergovernmental Affairs Health Public Safety, Inspections, & Enforcement', salary_array=[98908.0, 98908.0], size=2, median_col=98908.0),\n",
       " Row(job_category='Administration & Human Resources Communications & Intergovernmental Affairs Legal Affairs Policy, Research & Analysis', salary_array=[91563.0, 91563.0], size=2, median_col=91563.0),\n",
       " Row(job_category='Administration & Human Resources Communications & Intergovernmental Affairs Public Safety, Inspections, & Enforcement', salary_array=[36309.0, 36309.0], size=2, median_col=36309.0),\n",
       " Row(job_category='Administration & Human Resources Constituent Services & Community Programs', salary_array=[60000.0, 100000.0, 100000.0, 100000.0, 100000.0], size=5, median_col=100000.0),\n",
       " Row(job_category='Administration & Human Resources Constituent Services & Community Programs Communications & Intergovernmental Affairs Finance, Accounting, & Procurement Legal Affairs Policy, Research & Analysis', salary_array=[36218.0, 36218.0], size=2, median_col=36218.0),\n",
       " Row(job_category='Administration & Human Resources Constituent Services & Community Programs Communications & Intergovernmental Affairs Public Safety, Inspections, & Enforcement', salary_array=[61936.0, 61936.0], size=2, median_col=61936.0),\n",
       " Row(job_category='Administration & Human Resources Constituent Services & Community Programs Finance, Accounting, & Procurement Social Services', salary_array=[66875.0], size=1, median_col=66875.0),\n",
       " Row(job_category='Administration & Human Resources Constituent Services & Community Programs Legal Affairs', salary_array=[100000.0, 100000.0], size=2, median_col=100000.0),\n",
       " Row(job_category='Administration & Human Resources Constituent Services & Community Programs Policy, Research & Analysis', salary_array=[54879.0], size=1, median_col=54879.0),\n",
       " Row(job_category='Administration & Human Resources Constituent Services & Community Programs Policy, Research & Analysis Social Services', salary_array=[32240.0, 32240.0, 115000.0, 115000.0, 115000.0, 115000.0], size=6, median_col=115000.0),\n",
       " Row(job_category='Administration & Human Resources Constituent Services & Community Programs Social Services', salary_array=[32240.0, 32240.0, 32240.0, 32240.0], size=4, median_col=32240.0),\n",
       " Row(job_category='Administration & Human Resources Engineering, Architecture, & Planning Policy, Research & Analysis', salary_array=[72805.0, 105000.0], size=2, median_col=88902.5),\n",
       " Row(job_category='Administration & Human Resources Finance, Accounting, & Procurement', salary_array=[63386.0, 66463.0, 66463.0, 67000.0, 74479.0, 80000.0, 97873.0, 224749.0, 224749.0], size=9, median_col=74479.0),\n",
       " Row(job_category='Administration & Human Resources Finance, Accounting, & Procurement Building Operations & Maintenance', salary_array=[218587.0, 218587.0], size=2, median_col=218587.0)]"
      ]
     },
     "execution_count": 66,
     "metadata": {},
     "output_type": "execute_result"
    }
   ],
   "source": [
    "median_salary_df.head(20)"
   ]
  },
  {
   "cell_type": "code",
   "execution_count": 67,
   "metadata": {},
   "outputs": [
    {
     "data": {
      "text/plain": [
       "[Row(job_category='Administration & Human Resources Finance, Accounting, & Procurement Building Operations & Maintenance', max(median_col)=218587.0)]"
      ]
     },
     "execution_count": 67,
     "metadata": {},
     "output_type": "execute_result"
    }
   ],
   "source": [
    "median_salary_df.groupBy(\"job_category\").agg({'median_col':'max'}).sort('max(median_col)', ascending=False).head(1)"
   ]
  },
  {
   "cell_type": "code",
   "execution_count": 68,
   "metadata": {},
   "outputs": [
    {
     "data": {
      "text/plain": [
       "1"
      ]
     },
     "execution_count": 68,
     "metadata": {},
     "output_type": "execute_result"
    }
   ],
   "source": [
    "df.filter(\"job_category = 'Administration & Human Resources Finance, Accounting, & Procurement Building Operations & Maintenance'\")\\\n",
    "                    .select(\"preferred_skills\",\"job_category\",\"normalized_salary_to\").distinct().count()"
   ]
  },
  {
   "cell_type": "code",
   "execution_count": 69,
   "metadata": {},
   "outputs": [
    {
     "data": {
      "text/plain": [
       "[Row(preferred_skills='The Deputy Commissioner position requires excellent leadership, communication and client service skills as well as a passion for driving innovation, continuous improvement and efficiency, and implementing workforce strategies to recruit, develop and retain the most qualified and diverse talent in a customer service environment. The selected candidate will be expected to work closely with Agency and oversight counterparts and must have excellent management skills focused on staff alignment with the Bureauâ€™s vision, goals and career development. In addition, he/she must be an effective team player, capable of sustaining a culture of excellence in the delivery of customer service to internal partners and possess the ability to establish and maintain effective external partnerships and collaboration.   Specifically, the following skills and abilities are required to be successful in this role:    â€¢\\t7-10 years relevant work experience leading customer focused functions, of which at least 3 years must have been in a senior leadership position â€¢\\tBA/BS degree; MBA/advanced degree preferred â€¢\\tStrong analytical skills, with ability to interpret data and trends, diagnose problems, and implement action plans to resolve issues â€¢\\tOutstanding written and oral communication skills â€¢\\tComfort in managing concurrent projects in a fast-paced, results-driven environment with equal enthusiasm for high-level strategic planning and tactical daily execution â€¢\\tIn-depth knowledge of Federal, City and State governmental rules and regulations related to the position; NYC experience is a plus. â€¢\\tProficiency in Microsoft Office Suite', job_category='Administration & Human Resources Finance, Accounting, & Procurement Building Operations & Maintenance', normalized_salary_to=218587.0)]"
      ]
     },
     "execution_count": 69,
     "metadata": {},
     "output_type": "execute_result"
    }
   ],
   "source": [
    "df.filter(\"job_category = 'Administration & Human Resources Finance, Accounting, & Procurement Building Operations & Maintenance'\")\\\n",
    "                    .select(\"preferred_skills\",\"job_category\",\"normalized_salary_to\").distinct().head(2)"
   ]
  },
  {
   "cell_type": "markdown",
   "metadata": {},
   "source": [
    "- excellent leadership, communication and client service skills\n",
    "- passion for driving innovation, continuous improvement and efficiency,\n",
    "- implementing workforce strategies to recruit, \n",
    "- develop and retain the most qualified and diverse talent in a customer service environment,\n",
    "- excellent management skills focused on staff alignment with the Bureaus vision, goals and career development,\n",
    "- effective team player, \n",
    "- capable of sustaining a culture of excellence in the delivery of customer service to internal partners and possess the ability to establish and maintain effective external partnerships and collaboration,\n",
    "- 7-10 years relevant work experience leading customer focused functions of which at least 3 years must have been in a senior leadership position,\n",
    "- BA/BS degree,\n",
    "- MBA/advanced degree preferred,\n",
    "- Strong analytical skills,\n",
    "- **Outstanding written and oral communication skills ,\n",
    "- **Comfort in managing concurrent projects in a fast-paced, results-driven environment with equal enthusiasm for high-level strategic planning and tactical daily execution,\n",
    "- **tIn-depth knowledge of Federal, City and State governmental rules and regulations related to the position,\n",
    "- **NYC experience is a plus,\n",
    "- **Proficiency in Microsoft Office Suite,"
   ]
  }
 ],
 "metadata": {
  "kernelspec": {
   "display_name": "Python 3 (ipykernel)",
   "language": "python",
   "name": "python3"
  },
  "language_info": {
   "codemirror_mode": {
    "name": "ipython",
    "version": 3
   },
   "file_extension": ".py",
   "mimetype": "text/x-python",
   "name": "python",
   "nbconvert_exporter": "python",
   "pygments_lexer": "ipython3",
   "version": "3.9.12"
  }
 },
 "nbformat": 4,
 "nbformat_minor": 4
}
